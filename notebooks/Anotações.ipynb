{
 "cells": [
  {
   "cell_type": "markdown",
   "id": "5abde4a2-7de6-491a-8954-0b321aedff94",
   "metadata": {},
   "source": [
    "# Anotações Pandas"
   ]
  },
  {
   "cell_type": "markdown",
   "id": "60dd72c1-8198-4129-ac23-27ae3313e2b3",
   "metadata": {},
   "source": [
    "## 1) Getting Started With Pandas"
   ]
  },
  {
   "cell_type": "markdown",
   "id": "9c3a9a75-dc32-4750-9bd4-332c2f7aa8a0",
   "metadata": {},
   "source": [
    "### Anatomy of a DataFrame"
   ]
  },
  {
   "cell_type": "markdown",
   "id": "e3413a0e-a7c3-42fc-b88c-3aa2cef3fb5c",
   "metadata": {},
   "source": [
    "Um __DataFrame__ é composto por uma ou mais __Series__. Os nomes das series formam os nomes das colunas e os rótulos das linhas formam o __Index__."
   ]
  },
  {
   "cell_type": "code",
   "execution_count": 6,
   "id": "f201eee6-7b54-45f3-a10a-75dbfd56157e",
   "metadata": {},
   "outputs": [
    {
     "data": {
      "text/plain": [
       "3.1622776601683795"
      ]
     },
     "execution_count": 6,
     "metadata": {},
     "output_type": "execute_result"
    }
   ],
   "source": [
    "import numpy as np\n",
    "np.sqrt(10)"
   ]
  },
  {
   "cell_type": "code",
   "execution_count": null,
   "id": "3ebfbb38-14ae-4d37-8dfb-7f7f2f13a695",
   "metadata": {},
   "outputs": [],
   "source": []
  }
 ],
 "metadata": {
  "kernelspec": {
   "display_name": "Python 3 (ipykernel)",
   "language": "python",
   "name": "python3"
  },
  "language_info": {
   "codemirror_mode": {
    "name": "ipython",
    "version": 3
   },
   "file_extension": ".py",
   "mimetype": "text/x-python",
   "name": "python",
   "nbconvert_exporter": "python",
   "pygments_lexer": "ipython3",
   "version": "3.8.10"
  }
 },
 "nbformat": 4,
 "nbformat_minor": 5
}
